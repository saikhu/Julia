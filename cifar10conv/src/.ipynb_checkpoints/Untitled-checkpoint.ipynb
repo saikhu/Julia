{
 "cells": [
  {
   "cell_type": "code",
   "execution_count": 1,
   "id": "34b344fc",
   "metadata": {},
   "outputs": [
    {
     "name": "stderr",
     "output_type": "stream",
     "text": [
      "\u001b[32m\u001b[1m    Updating\u001b[22m\u001b[39m registry at `~/.julia/registries/General.toml`\n",
      "\u001b[32m\u001b[1m   Resolving\u001b[22m\u001b[39m package versions...\n",
      "\u001b[32m\u001b[1m  No Changes\u001b[22m\u001b[39m to `/Volumes/GoogleDrive/My Drive/UNOMIC/JuliaTesting/Julia/cifar10conv/Project.toml`\n",
      "\u001b[32m\u001b[1m  No Changes\u001b[22m\u001b[39m to `/Volumes/GoogleDrive/My Drive/UNOMIC/JuliaTesting/Julia/cifar10conv/Manifest.toml`\n"
     ]
    }
   ],
   "source": [
    "import Pkg;\n",
    "Pkg.add(\"BSON\")"
   ]
  },
  {
   "cell_type": "code",
   "execution_count": 4,
   "id": "59cbcc64",
   "metadata": {},
   "outputs": [
    {
     "name": "stderr",
     "output_type": "stream",
     "text": [
      "\u001b[32m\u001b[1m   Resolving\u001b[22m\u001b[39m package versions...\n",
      "\u001b[32m\u001b[1m   Installed\u001b[22m\u001b[39m JSON3 ─ v1.9.4\n",
      "\u001b[32m\u001b[1m    Updating\u001b[22m\u001b[39m `/Volumes/GoogleDrive/My Drive/UNOMIC/JuliaTesting/Julia/cifar10conv/Project.toml`\n",
      " \u001b[90m [eb30cadb] \u001b[39m\u001b[92m+ MLDatasets v0.5.15\u001b[39m\n",
      "\u001b[32m\u001b[1m    Updating\u001b[22m\u001b[39m `/Volumes/GoogleDrive/My Drive/UNOMIC/JuliaTesting/Julia/cifar10conv/Manifest.toml`\n",
      " \u001b[90m [9e28174c] \u001b[39m\u001b[92m+ BinDeps v1.0.2\u001b[39m\n",
      " \u001b[90m [b99e7846] \u001b[39m\u001b[92m+ BinaryProvider v0.5.10\u001b[39m\n",
      " \u001b[90m [e1450e63] \u001b[39m\u001b[92m+ BufferedStreams v1.0.0\u001b[39m\n",
      " \u001b[90m [124859b0] \u001b[39m\u001b[92m+ DataDeps v0.7.7\u001b[39m\n",
      " \u001b[90m [92fee26a] \u001b[39m\u001b[92m+ GZip v0.5.1\u001b[39m\n",
      " \u001b[90m [f67ccb44] \u001b[39m\u001b[92m+ HDF5 v0.16.2\u001b[39m\n",
      " \u001b[90m [cd3eb016] \u001b[39m\u001b[92m+ HTTP v0.9.17\u001b[39m\n",
      " \u001b[90m [83e8ac13] \u001b[39m\u001b[92m+ IniFile v0.5.1\u001b[39m\n",
      " \u001b[90m [7d512f48] \u001b[39m\u001b[92m+ InternedStrings v0.7.0\u001b[39m\n",
      " \u001b[90m [0f8b85d8] \u001b[39m\u001b[92m+ JSON3 v1.9.4\u001b[39m\n",
      " \u001b[90m [23992714] \u001b[39m\u001b[92m+ MAT v0.10.3\u001b[39m\n",
      " \u001b[90m [eb30cadb] \u001b[39m\u001b[92m+ MLDatasets v0.5.15\u001b[39m\n",
      " \u001b[90m [fbb45041] \u001b[39m\u001b[92m+ Pickle v0.3.0\u001b[39m\n",
      " \u001b[90m [5e0ebb24] \u001b[39m\u001b[92m+ Strided v1.1.2\u001b[39m\n",
      " \u001b[90m [69024149] \u001b[39m\u001b[92m+ StringEncodings v0.3.5\u001b[39m\n",
      " \u001b[90m [856f2bd8] \u001b[39m\u001b[92m+ StructTypes v1.8.1\u001b[39m\n",
      " \u001b[90m [9d95972d] \u001b[39m\u001b[92m+ TupleTools v1.3.0\u001b[39m\n",
      " \u001b[90m [30578b45] \u001b[39m\u001b[92m+ URIParser v0.4.1\u001b[39m\n",
      " \u001b[90m [5c2747f8] \u001b[39m\u001b[92m+ URIs v1.3.0\u001b[39m\n",
      " \u001b[90m [0234f1f7] \u001b[39m\u001b[92m+ HDF5_jll v1.12.1+0\u001b[39m\n",
      " \u001b[90m [94ce4f54] \u001b[39m\u001b[92m+ Libiconv_jll v1.16.1+1\u001b[39m\n",
      " \u001b[90m [458c3c95] \u001b[39m\u001b[92m+ OpenSSL_jll v1.1.13+0\u001b[39m\n",
      "\u001b[32m\u001b[1mPrecompiling\u001b[22m\u001b[39m project...\n",
      "\u001b[32m  ✓ \u001b[39m\u001b[90mJSON3\u001b[39m\n",
      "\u001b[91m  ✗ \u001b[39m\u001b[90mBinaryProvider\u001b[39m\n",
      "\u001b[32m  ✓ \u001b[39mMLDatasets\n",
      "\u001b[32m  ✓ \u001b[39mcifar10conv\n",
      "  3 dependencies successfully precompiled in 8 seconds (98 already precompiled)\n",
      "  \u001b[91m1\u001b[39m dependency errored. To see a full report either run `import Pkg; Pkg.precompile()` or load the package\n"
     ]
    }
   ],
   "source": [
    "import Pkg;\n",
    "Pkg.add(\"MLDatasets\")"
   ]
  },
  {
   "cell_type": "code",
   "execution_count": 2,
   "id": "70c1cb12",
   "metadata": {},
   "outputs": [],
   "source": [
    "using Flux, MLDatasets\n",
    "using Flux: onehotbatch, onecold, DataLoader, Optimiser\n",
    "using BSON:@save,@load\n",
    "# using JLD"
   ]
  },
  {
   "cell_type": "code",
   "execution_count": 3,
   "id": "ce3174a0",
   "metadata": {},
   "outputs": [
    {
     "data": {
      "text/plain": [
       "ConvMixer (generic function with 1 method)"
      ]
     },
     "execution_count": 3,
     "metadata": {},
     "output_type": "execute_result"
    }
   ],
   "source": [
    "function ConvMixer(in_channels, kernel_size, patch_size, dim, depth, N_classes)\n",
    "    f = Chain(\n",
    "            Conv((patch_size, patch_size), in_channels=>dim, gelu; stride=patch_size),\n",
    "            BatchNorm(dim),\n",
    "            [\n",
    "                Chain(\n",
    "                    SkipConnection(Chain(Conv((kernel_size,kernel_size), dim=>dim, gelu; pad=SamePad(), groups=dim), BatchNorm(dim)), +),\n",
    "                    Chain(Conv((1,1), dim=>dim, gelu), BatchNorm(dim))\n",
    "                ) \n",
    "                for i in 1:depth\n",
    "            ]...,\n",
    "            AdaptiveMeanPool((1,1)),\n",
    "            flatten,\n",
    "            Dense(dim,N_classes)\n",
    "        )\n",
    "    return f\n",
    "end"
   ]
  },
  {
   "cell_type": "code",
   "execution_count": 4,
   "id": "7e1bf0f8",
   "metadata": {},
   "outputs": [
    {
     "data": {
      "text/plain": [
       "get_data (generic function with 1 method)"
      ]
     },
     "execution_count": 4,
     "metadata": {},
     "output_type": "execute_result"
    }
   ],
   "source": [
    "function get_data(batchsize; dataset = MLDatasets.CIFAR10, idxs = nothing)\n",
    "    \"\"\"\n",
    "    idxs=nothing gives the full dataset, otherwise (for testing purposes) only the 1:idxs elements of the train set are given.\n",
    "    \"\"\"\n",
    "    ENV[\"DATADEPS_ALWAYS_ACCEPT\"] = \"true\" \n",
    "\n",
    "    # Loading Dataset\n",
    "    if idxs==nothing\n",
    "        xtrain, ytrain = dataset.traindata(Float32)\n",
    "        xtest, ytest = dataset.testdata(Float32)\n",
    "\telse\n",
    "        xtrain, ytrain = dataset.traindata(Float32, 1:idxs)\n",
    "        xtest, ytest = dataset.testdata(Float32, 1:Int(idxs/10))\n",
    "    end\n",
    "\n",
    "    # Reshape Data to comply to Julia's (width, height, channels, batch_size) convention in case there are only 1 channel (eg MNIST)\n",
    "    if ndims(xtrain)==3\n",
    "        w = size(xtrain)[1]\n",
    "        xtrain = reshape(xtrain, (w,w,1,:))\n",
    "        xtest = reshape(xtest, (w,w,1,:))\n",
    "    end\n",
    "    \n",
    "    ytrain, ytest = onehotbatch(ytrain, 0:9), onehotbatch(ytest, 0:9)\n",
    "\n",
    "    train_loader = DataLoader((xtrain, ytrain), batchsize=batchsize, shuffle=true)\n",
    "    test_loader = DataLoader((xtest, ytest), batchsize=batchsize)\n",
    "\n",
    "    return train_loader, test_loader\n",
    "end"
   ]
  },
  {
   "cell_type": "code",
   "execution_count": 5,
   "id": "44ad6227",
   "metadata": {},
   "outputs": [
    {
     "data": {
      "text/plain": [
       "create_loss_function (generic function with 1 method)"
      ]
     },
     "execution_count": 5,
     "metadata": {},
     "output_type": "execute_result"
    }
   ],
   "source": [
    "function create_loss_function(dataloader, device)\n",
    "\n",
    "    function loss(model)\n",
    "        n = 0\n",
    "        l = 0.0f0\n",
    "        acc = 0.0f0\n",
    "\n",
    "        for (x,y) in dataloader\n",
    "            x,y = x |> device, y |> device\n",
    "            z = model(x)        \n",
    "            l += Flux.logitcrossentropy(z, y, agg=sum)\n",
    "            acc += sum(onecold(z).==onecold(y))\n",
    "            n += size(x)[end]\n",
    "        end\n",
    "        l / n, acc / n\n",
    "    end\n",
    "\n",
    "    return loss\n",
    "   \n",
    "end"
   ]
  },
  {
   "cell_type": "code",
   "execution_count": 25,
   "id": "140406c3",
   "metadata": {},
   "outputs": [
    {
     "data": {
      "text/plain": [
       "train (generic function with 2 methods)"
      ]
     },
     "execution_count": 25,
     "metadata": {},
     "output_type": "execute_result"
    }
   ],
   "source": [
    "function train(n_epochs=10)\n",
    "\n",
    "    #params: warning, the training can be long with these params\n",
    "    print(\"Data Loading\")\n",
    "    train_loader, test_loader = get_data(128)\n",
    "    print(\"Data Loading -- Done\")\n",
    "    η = 3e-4\n",
    "    in_channel = 3\n",
    "    patch_size = 2\n",
    "    kernel_size = 7\n",
    "    dim = 128\n",
    "    dimPL = 2\n",
    "    depth = 18\n",
    "    use_cuda = false\n",
    "\n",
    "    #logging the losses\n",
    "    train_save = zeros(n_epochs, 2)\n",
    "    test_save = zeros(n_epochs, 2)\n",
    "\n",
    "    if use_cuda\n",
    "        device = gpu\n",
    "        @info \"Training on GPU\"\n",
    "        print(\"GPU Select\")\n",
    "    else\n",
    "        device = cpu\n",
    "        @info \"Training on CPU\"\n",
    "        print(\"CPU Select\")\n",
    "    end\n",
    "\n",
    "    train_loss_fn = create_loss_function(train_loader, device)\n",
    "    test_loss_fn = create_loss_function(test_loader, device)\n",
    "    \n",
    "    print(\"Model Compliling\")\n",
    "    model = ConvMixer(in_channel, kernel_size, patch_size, dim, depth, 10) |> device\n",
    "    print(\"Model Compiled\")\n",
    "    \n",
    "    ps = params(model)\n",
    "    opt = Optimiser(\n",
    "            WeightDecay(1f-3), \n",
    "            ClipNorm(1.0),\n",
    "            ADAM(η)\n",
    "            )\n",
    "    \n",
    "    print(\"- Training Start's - \")\n",
    "    for epoch in 1:n_epochs\n",
    "        for (x,y) in train_loader\n",
    "            x,y = x|>device, y|>device\n",
    "            gr = gradient(()->Flux.logitcrossentropy(model(x), y, agg=sum), ps)\n",
    "            Flux.Optimise.update!(opt, ps, gr)\n",
    "        end\n",
    "\n",
    "        #logging\n",
    "        train_loss, train_acc = train_loss_fn(model) |> cpu\n",
    "        test_loss, test_acc = test_loss_fn(model) |> cpu\n",
    "        train_save[epoch,:] = [train_loss, train_acc]\n",
    "        test_save[epoch,:] = [test_loss, test_acc]\n",
    "        \n",
    "        \n",
    "        \n",
    "        @info \"Epoch $epoch : Train loss = $train_loss || Validation accuracy = $test_acc.\"\n",
    "#         if epoch%5==0\n",
    "#             @info \"Epoch $epoch : Train loss = $train_loss || Validation accuracy = $test_acc.\"\n",
    "#         end\n",
    "\n",
    "    end\n",
    "\n",
    "    model = model |> cpu\n",
    "#     @save \"model.bson\" model \n",
    "#     @save \"losses.bson\" train_save test_save\n",
    "end\n",
    "\n"
   ]
  },
  {
   "cell_type": "code",
   "execution_count": 22,
   "id": "1d1f9ad4",
   "metadata": {},
   "outputs": [],
   "source": [
    "if abspath(PROGRAM_FILE) == @__FILE__\n",
    "    print(\"Hello\")\n",
    "end"
   ]
  },
  {
   "cell_type": "code",
   "execution_count": 23,
   "id": "83110a7f",
   "metadata": {},
   "outputs": [
    {
     "data": {
      "text/plain": [
       "\"/Users/usmanasim/.julia/packages/IJulia/e8kqU/src/kernel.jl\""
      ]
     },
     "execution_count": 23,
     "metadata": {},
     "output_type": "execute_result"
    }
   ],
   "source": [
    "abspath(PROGRAM_FILE)"
   ]
  },
  {
   "cell_type": "code",
   "execution_count": 24,
   "id": "f5035c7e",
   "metadata": {},
   "outputs": [
    {
     "data": {
      "text/plain": [
       "\"In[24]\""
      ]
     },
     "execution_count": 24,
     "metadata": {},
     "output_type": "execute_result"
    }
   ],
   "source": [
    "@__FILE__"
   ]
  },
  {
   "cell_type": "code",
   "execution_count": null,
   "id": "4ee06a80",
   "metadata": {},
   "outputs": [],
   "source": [
    "train()"
   ]
  },
  {
   "cell_type": "code",
   "execution_count": null,
   "id": "70a1e72a",
   "metadata": {},
   "outputs": [],
   "source": []
  }
 ],
 "metadata": {
  "kernelspec": {
   "display_name": "Julia 1.7.2",
   "language": "julia",
   "name": "julia-1.7"
  },
  "language_info": {
   "file_extension": ".jl",
   "mimetype": "application/julia",
   "name": "julia",
   "version": "1.7.2"
  }
 },
 "nbformat": 4,
 "nbformat_minor": 5
}
