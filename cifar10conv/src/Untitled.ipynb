{
 "cells": [
  {
   "cell_type": "code",
   "execution_count": 9,
   "id": "0ac6a7cf",
   "metadata": {},
   "outputs": [
    {
     "name": "stdout",
     "output_type": "stream",
     "text": [
      "\u001b[36m\u001b[1m     Project\u001b[22m\u001b[39m cifar10conv v0.1.0\n",
      "\u001b[32m\u001b[1m      Status\u001b[22m\u001b[39m `/Volumes/GoogleDrive/My Drive/UNOMIC/JuliaTesting/Julia/cifar10conv/Project.toml`\n",
      " \u001b[90m [fbb218c0] \u001b[39mBSON v0.3.5\n",
      " \u001b[90m [587475ba] \u001b[39mFlux v0.12.9\n",
      " \u001b[90m [7073ff75] \u001b[39mIJulia v1.23.2\n",
      " \u001b[90m [86fae568] \u001b[39mImageView v0.10.15\n",
      " \u001b[90m [4138dd39] \u001b[39mJLD v0.13.1\n",
      " \u001b[90m [eb30cadb] \u001b[39mMLDatasets v0.5.15\n",
      " \u001b[90m [91a5bcdd] \u001b[39mPlots v1.26.0\n",
      " \u001b[90m [de0858da] \u001b[39mPrintf\n"
     ]
    }
   ],
   "source": [
    "import Pkg;\n",
    "Pkg.status()"
   ]
  },
  {
   "cell_type": "code",
   "execution_count": 1,
   "id": "ff5576a7",
   "metadata": {},
   "outputs": [
    {
     "name": "stderr",
     "output_type": "stream",
     "text": [
      "\u001b[32m\u001b[1m    Updating\u001b[22m\u001b[39m registry at `~/.julia/registries/General.toml`\n",
      "\u001b[32m\u001b[1m   Resolving\u001b[22m\u001b[39m package versions...\n",
      "\u001b[32m\u001b[1m    Updating\u001b[22m\u001b[39m `/Volumes/GoogleDrive/My Drive/UNOMIC/JuliaTesting/Julia/cifar10conv/Project.toml`\n",
      " \u001b[90m [e88e6eb3] \u001b[39m\u001b[92m+ Zygote v0.6.36\u001b[39m\n",
      "\u001b[32m\u001b[1m  No Changes\u001b[22m\u001b[39m to `/Volumes/GoogleDrive/My Drive/UNOMIC/JuliaTesting/Julia/cifar10conv/Manifest.toml`\n"
     ]
    }
   ],
   "source": [
    "import Pkg;\n",
    "Pkg.add(\"Zygote\")"
   ]
  },
  {
   "cell_type": "code",
   "execution_count": 10,
   "id": "f9a19a1e",
   "metadata": {},
   "outputs": [],
   "source": [
    "using Flux, MLDatasets\n",
    "using Flux: onehotbatch, onecold, DataLoader, Optimiser\n",
    "using BSON:@save,@load\n",
    "# using JLD"
   ]
  },
  {
   "cell_type": "code",
   "execution_count": 11,
   "id": "5ed0e352",
   "metadata": {},
   "outputs": [
    {
     "data": {
      "text/plain": [
       "ConvMixer (generic function with 1 method)"
      ]
     },
     "execution_count": 11,
     "metadata": {},
     "output_type": "execute_result"
    }
   ],
   "source": [
    "function ConvMixer(in_channels, kernel_size, patch_size, dim, depth, N_classes)\n",
    "    f = Chain(\n",
    "            Conv((patch_size, patch_size), in_channels=>dim, gelu; stride=patch_size),\n",
    "            BatchNorm(dim),\n",
    "            [\n",
    "                Chain(\n",
    "                    SkipConnection(Chain(Conv((kernel_size,kernel_size), dim=>dim, gelu; pad=SamePad(), groups=dim), BatchNorm(dim)), +),\n",
    "                    Chain(Conv((1,1), dim=>dim, gelu), BatchNorm(dim))\n",
    "                ) \n",
    "                for i in 1:depth\n",
    "            ]...,\n",
    "            AdaptiveMeanPool((1,1)),\n",
    "            flatten,\n",
    "            Dense(dim,N_classes)\n",
    "        )\n",
    "    return f\n",
    "end"
   ]
  },
  {
   "cell_type": "code",
   "execution_count": 12,
   "id": "abaa92c4",
   "metadata": {},
   "outputs": [
    {
     "data": {
      "text/plain": [
       "get_data (generic function with 1 method)"
      ]
     },
     "execution_count": 12,
     "metadata": {},
     "output_type": "execute_result"
    }
   ],
   "source": [
    "function get_data(batchsize; dataset = MLDatasets.CIFAR10, idxs = nothing)\n",
    "    \"\"\"\n",
    "    idxs=nothing gives the full dataset, otherwise (for testing purposes) only the 1:idxs elements of the train set are given.\n",
    "    \"\"\"\n",
    "    ENV[\"DATADEPS_ALWAYS_ACCEPT\"] = \"true\" \n",
    "\n",
    "    # Loading Dataset\n",
    "    if idxs==nothing\n",
    "        xtrain, ytrain = dataset.traindata(Float32)\n",
    "        xtest, ytest = dataset.testdata(Float32)\n",
    "\telse\n",
    "        xtrain, ytrain = dataset.traindata(Float32, 1:idxs)\n",
    "        xtest, ytest = dataset.testdata(Float32, 1:Int(idxs/10))\n",
    "    end\n",
    "\n",
    "    # Reshape Data to comply to Julia's (width, height, channels, batch_size) convention in case there are only 1 channel (eg MNIST)\n",
    "    if ndims(xtrain)==3\n",
    "        w = size(xtrain)[1]\n",
    "        xtrain = reshape(xtrain, (w,w,1,:))\n",
    "        xtest = reshape(xtest, (w,w,1,:))\n",
    "    end\n",
    "    \n",
    "    ytrain, ytest = onehotbatch(ytrain, 0:9), onehotbatch(ytest, 0:9)\n",
    "\n",
    "    train_loader = DataLoader((xtrain, ytrain), batchsize=batchsize, shuffle=true)\n",
    "    test_loader = DataLoader((xtest, ytest), batchsize=batchsize)\n",
    "\n",
    "    return train_loader, test_loader\n",
    "end"
   ]
  },
  {
   "cell_type": "code",
   "execution_count": 13,
   "id": "3e658537",
   "metadata": {},
   "outputs": [
    {
     "data": {
      "text/plain": [
       "create_loss_function (generic function with 1 method)"
      ]
     },
     "execution_count": 13,
     "metadata": {},
     "output_type": "execute_result"
    }
   ],
   "source": [
    "function create_loss_function(dataloader, device)\n",
    "\n",
    "    function loss(model)\n",
    "        n = 0\n",
    "        l = 0.0f0\n",
    "        acc = 0.0f0\n",
    "\n",
    "        for (x,y) in dataloader\n",
    "            x,y = x |> device, y |> device\n",
    "            z = model(x)        \n",
    "            l += Flux.logitcrossentropy(z, y, agg=sum)\n",
    "            acc += sum(onecold(z).==onecold(y))\n",
    "            n += size(x)[end]\n",
    "        end\n",
    "        l / n, acc / n\n",
    "    end\n",
    "\n",
    "    return loss\n",
    "   \n",
    "end"
   ]
  },
  {
   "cell_type": "code",
   "execution_count": 6,
   "id": "176975cb",
   "metadata": {},
   "outputs": [
    {
     "data": {
      "text/plain": [
       "train (generic function with 2 methods)"
      ]
     },
     "execution_count": 6,
     "metadata": {},
     "output_type": "execute_result"
    }
   ],
   "source": [
    "function train(n_epochs=2)\n",
    "\n",
    "    #params: warning, the training can be long with these params\n",
    "    print(\"Data Loading\")\n",
    "    train_loader, test_loader = get_data(128)\n",
    "    print(\"Data Loading -- Done\")\n",
    "    η = 3e-4\n",
    "    in_channel = 3\n",
    "    patch_size = 2\n",
    "    kernel_size = 7\n",
    "    dim = 128\n",
    "    dimPL = 2\n",
    "    depth = 18\n",
    "    use_cuda = false\n",
    "\n",
    "    #logging the losses\n",
    "    train_save = zeros(n_epochs, 2)\n",
    "    test_save = zeros(n_epochs, 2)\n",
    "\n",
    "    if use_cuda\n",
    "        device = gpu\n",
    "        @info \"Training on GPU\"\n",
    "        print(\"GPU Select\")\n",
    "    else\n",
    "        device = cpu\n",
    "        @info \"Training on CPU\"\n",
    "        print(\"CPU Select\")\n",
    "    end\n",
    "\n",
    "    train_loss_fn = create_loss_function(train_loader, device)\n",
    "    test_loss_fn = create_loss_function(test_loader, device)\n",
    "    \n",
    "    print(\"Model Compliling\")\n",
    "    model = ConvMixer(in_channel, kernel_size, patch_size, dim, depth, 10) |> device\n",
    "    print(\"Model Compiled\")\n",
    "    \n",
    "    ps = params(model)\n",
    "    opt = Optimiser(\n",
    "            WeightDecay(1f-3), \n",
    "            ClipNorm(1.0),\n",
    "            ADAM(η)\n",
    "            )\n",
    "    \n",
    "    print(\"- Training Start's - \")\n",
    "    for epoch in 1:n_epochs\n",
    "        for (x,y) in train_loader\n",
    "            x,y = x|>device, y|>device\n",
    "            gr = gradient(()->Flux.logitcrossentropy(model(x), y, agg=sum), ps)\n",
    "            Flux.Optimise.update!(opt, ps, gr)\n",
    "        end\n",
    "\n",
    "        #logging\n",
    "        train_loss, train_acc = train_loss_fn(model) |> cpu\n",
    "        test_loss, test_acc = test_loss_fn(model) |> cpu\n",
    "        train_save[epoch,:] = [train_loss, train_acc]\n",
    "        test_save[epoch,:] = [test_loss, test_acc]\n",
    "        \n",
    "        \n",
    "        \n",
    "        @info \"Epoch $epoch : Train loss = $train_loss || Validation accuracy = $test_acc.\"\n",
    "#         if epoch%5==0\n",
    "#             @info \"Epoch $epoch : Train loss = $train_loss || Validation accuracy = $test_acc.\"\n",
    "#         end\n",
    "\n",
    "    end\n",
    "\n",
    "    model = model |> cpu\n",
    "#     @save \"model.bson\" model \n",
    "#     @save \"losses.bson\" train_save test_save\n",
    "end\n",
    "\n"
   ]
  },
  {
   "cell_type": "code",
   "execution_count": 22,
   "id": "c7083eef",
   "metadata": {},
   "outputs": [],
   "source": [
    "if abspath(PROGRAM_FILE) == @__FILE__\n",
    "    print(\"Hello\")\n",
    "end"
   ]
  },
  {
   "cell_type": "code",
   "execution_count": 23,
   "id": "7e6f5ab1",
   "metadata": {},
   "outputs": [
    {
     "data": {
      "text/plain": [
       "\"/Users/usmanasim/.julia/packages/IJulia/e8kqU/src/kernel.jl\""
      ]
     },
     "execution_count": 23,
     "metadata": {},
     "output_type": "execute_result"
    }
   ],
   "source": [
    "abspath(PROGRAM_FILE)"
   ]
  },
  {
   "cell_type": "code",
   "execution_count": 24,
   "id": "abd000d7",
   "metadata": {},
   "outputs": [
    {
     "data": {
      "text/plain": [
       "\"In[24]\""
      ]
     },
     "execution_count": 24,
     "metadata": {},
     "output_type": "execute_result"
    }
   ],
   "source": [
    "@__FILE__"
   ]
  },
  {
   "cell_type": "code",
   "execution_count": 7,
   "id": "fb9b565d",
   "metadata": {},
   "outputs": [
    {
     "name": "stdout",
     "output_type": "stream",
     "text": [
      "Data LoadingData Loading -- DoneCPU SelectModel ComplilingModel Compiled- Training Start's - "
     ]
    },
    {
     "name": "stderr",
     "output_type": "stream",
     "text": [
      "┌ Info: Training on CPU\n",
      "└ @ Main In[6]:26\n"
     ]
    },
    {
     "ename": "LoadError",
     "evalue": "TaskFailedException\n\n\u001b[91m    nested task error: \u001b[39mInterruptException:",
     "output_type": "error",
     "traceback": [
      "TaskFailedException\n\n\u001b[91m    nested task error: \u001b[39mInterruptException:",
      "",
      "Stacktrace:",
      "  [1] sync_end(c::Channel{Any})",
      "    @ Base ./task.jl:381",
      "  [2] macro expansion",
      "    @ ./task.jl:400 [inlined]",
      "  [3] ∇conv_filter!(out::Array{Float32, 5}, in1::Array{Float32, 5}, in2::Array{Float32, 5}, cdims::DenseConvDims{3, 3, 3, 6, 3}; kwargs::Base.Pairs{Symbol, Union{}, Tuple{}, NamedTuple{(), Tuple{}}})",
      "    @ NNlib ~/.julia/packages/NNlib/TAcqa/src/conv.jl:245",
      "  [4] ∇conv_filter!",
      "    @ ~/.julia/packages/NNlib/TAcqa/src/conv.jl:234 [inlined]",
      "  [5] ∇conv_filter!(y::Array{Float32, 4}, x::Array{Float32, 4}, w::Array{Float32, 4}, cdims::DenseConvDims{2, 2, 2, 4, 2}; kwargs::Base.Pairs{Symbol, Union{}, Tuple{}, NamedTuple{(), Tuple{}}})",
      "    @ NNlib ~/.julia/packages/NNlib/TAcqa/src/conv.jl:145",
      "  [6] ∇conv_filter!",
      "    @ ~/.julia/packages/NNlib/TAcqa/src/conv.jl:145 [inlined]",
      "  [7] #∇conv_filter#200",
      "    @ ~/.julia/packages/NNlib/TAcqa/src/conv.jl:112 [inlined]",
      "  [8] ∇conv_filter",
      "    @ ~/.julia/packages/NNlib/TAcqa/src/conv.jl:110 [inlined]",
      "  [9] #314",
      "    @ ~/.julia/packages/NNlib/TAcqa/src/conv.jl:309 [inlined]",
      " [10] unthunk",
      "    @ ~/.julia/packages/ChainRulesCore/IzITE/src/tangent_types/thunks.jl:197 [inlined]",
      " [11] wrap_chainrules_output",
      "    @ ~/.julia/packages/Zygote/3I4nT/src/compiler/chainrules.jl:104 [inlined]",
      " [12] map",
      "    @ ./tuple.jl:223 [inlined]",
      " [13] map",
      "    @ ./tuple.jl:224 [inlined]",
      " [14] wrap_chainrules_output",
      "    @ ~/.julia/packages/Zygote/3I4nT/src/compiler/chainrules.jl:105 [inlined]",
      " [15] ZBack",
      "    @ ~/.julia/packages/Zygote/3I4nT/src/compiler/chainrules.jl:204 [inlined]",
      " [16] Pullback",
      "    @ ~/.julia/packages/Flux/qAdFM/src/layers/conv.jl:166 [inlined]",
      " [17] (::typeof(∂(λ)))(Δ::Array{Float32, 4})",
      "    @ Zygote ~/.julia/packages/Zygote/3I4nT/src/compiler/interface2.jl:0",
      " [18] Pullback",
      "    @ ~/.julia/packages/Flux/qAdFM/src/layers/basic.jl:47 [inlined]",
      " [19] (::typeof(∂(applychain)))(Δ::Array{Float32, 4})",
      "    @ Zygote ~/.julia/packages/Zygote/3I4nT/src/compiler/interface2.jl:0",
      " [20] Pullback",
      "    @ ~/.julia/packages/Flux/qAdFM/src/layers/basic.jl:49 [inlined]",
      " [21] (::typeof(∂(λ)))(Δ::Array{Float32, 4})",
      "    @ Zygote ~/.julia/packages/Zygote/3I4nT/src/compiler/interface2.jl:0",
      " [22] Pullback",
      "    @ ~/.julia/packages/Flux/qAdFM/src/layers/basic.jl:310 [inlined]",
      " [23] (::typeof(∂(λ)))(Δ::Array{Float32, 4})",
      "    @ Zygote ~/.julia/packages/Zygote/3I4nT/src/compiler/interface2.jl:0",
      " [24] Pullback",
      "    @ ~/.julia/packages/Flux/qAdFM/src/layers/basic.jl:47 [inlined]",
      " [25] (::typeof(∂(applychain)))(Δ::Array{Float32, 4})",
      "    @ Zygote ~/.julia/packages/Zygote/3I4nT/src/compiler/interface2.jl:0",
      " [26] Pullback",
      "    @ ~/.julia/packages/Flux/qAdFM/src/layers/basic.jl:49 [inlined]",
      " [27] (::typeof(∂(λ)))(Δ::Array{Float32, 4})",
      "    @ Zygote ~/.julia/packages/Zygote/3I4nT/src/compiler/interface2.jl:0",
      " [28] Pullback",
      "    @ ~/.julia/packages/Flux/qAdFM/src/layers/basic.jl:47 [inlined]",
      "--- the last 2 lines are repeated 11 more times ---",
      " [51] (::typeof(∂(applychain)))(Δ::Matrix{Float32})",
      "    @ Zygote ~/.julia/packages/Zygote/3I4nT/src/compiler/interface2.jl:0",
      " [52] Pullback",
      "    @ ~/.julia/packages/Flux/qAdFM/src/layers/basic.jl:49 [inlined]",
      " [53] (::typeof(∂(λ)))(Δ::Matrix{Float32})",
      "    @ Zygote ~/.julia/packages/Zygote/3I4nT/src/compiler/interface2.jl:0",
      " [54] Pullback",
      "    @ ./In[6]:48 [inlined]",
      " [55] (::typeof(∂(λ)))(Δ::Float32)",
      "    @ Zygote ~/.julia/packages/Zygote/3I4nT/src/compiler/interface2.jl:0",
      " [56] (::Zygote.var\"#94#95\"{Zygote.Params, typeof(∂(λ)), Zygote.Context})(Δ::Float32)",
      "    @ Zygote ~/.julia/packages/Zygote/3I4nT/src/compiler/interface.jl:357",
      " [57] gradient(f::Function, args::Zygote.Params)",
      "    @ Zygote ~/.julia/packages/Zygote/3I4nT/src/compiler/interface.jl:76",
      " [58] train(n_epochs::Int64)",
      "    @ Main ./In[6]:48",
      " [59] train()",
      "    @ Main ./In[6]:4",
      " [60] top-level scope",
      "    @ In[7]:1",
      " [61] eval",
      "    @ ./boot.jl:373 [inlined]"
     ]
    }
   ],
   "source": [
    "train()"
   ]
  },
  {
   "cell_type": "code",
   "execution_count": null,
   "id": "15f1f8f3",
   "metadata": {},
   "outputs": [],
   "source": []
  }
 ],
 "metadata": {
  "kernelspec": {
   "display_name": "Julia 1.7.2",
   "language": "julia",
   "name": "julia-1.7"
  },
  "language_info": {
   "file_extension": ".jl",
   "mimetype": "application/julia",
   "name": "julia",
   "version": "1.7.2"
  }
 },
 "nbformat": 4,
 "nbformat_minor": 5
}
