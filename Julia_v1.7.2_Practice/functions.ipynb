{
 "cells": [
  {
   "cell_type": "code",
   "execution_count": 17,
   "metadata": {},
   "outputs": [
    {
     "data": {
      "text/plain": [
       "11"
      ]
     },
     "metadata": {},
     "output_type": "display_data"
    }
   ],
   "source": [
    "function f(x, y)\n",
    "    result = x + y\n",
    "    return result\n",
    "    result = x * y\n",
    "end\n",
    "f(5,6)"
   ]
  },
  {
   "cell_type": "code",
   "execution_count": 11,
   "metadata": {},
   "outputs": [
    {
     "data": {
      "text/plain": [
       "1"
      ]
     },
     "metadata": {},
     "output_type": "display_data"
    }
   ],
   "source": [
    "fib(n::Integer) = n ≤ 2 ? one(n) : fib(n-1) + fib(n-2)\n",
    "fib(2)"
   ]
  },
  {
   "cell_type": "code",
   "execution_count": 12,
   "metadata": {},
   "outputs": [
    {
     "data": {
      "text/plain": [
       "1"
      ]
     },
     "metadata": {},
     "output_type": "display_data"
    }
   ],
   "source": [
    "one(5)"
   ]
  },
  {
   "cell_type": "code",
   "execution_count": 20,
   "metadata": {},
   "outputs": [
    {
     "data": {
      "text/plain": [
       "6"
      ]
     },
     "metadata": {},
     "output_type": "display_data"
    }
   ],
   "source": [
    "function g(x::Int, y::Int)::Int16\n",
    "    return x * y\n",
    "    x + y\n",
    "end\n",
    "g(2, 3)"
   ]
  },
  {
   "cell_type": "code",
   "execution_count": 31,
   "metadata": {},
   "outputs": [
    {
     "name": "stdout",
     "output_type": "stream",
     "text": [
      "Thank you Ma'amThank you Ma'am"
     ]
    },
    {
     "data": {
      "text/plain": [
       "Nothing"
      ]
     },
     "metadata": {},
     "output_type": "display_data"
    }
   ],
   "source": [
    "function nothing_check(x::Bool, y::Int)::Nothing\n",
    "    print(\"Thank you Ma'am\")\n",
    "    return nothing    \n",
    "end\n",
    "\n",
    "typeof(nothing_check(true,1))"
   ]
  },
  {
   "cell_type": "code",
   "execution_count": null,
   "metadata": {},
   "outputs": [],
   "source": [
    "function nothing_check(x::Bool, a::Int, b::Int, c::Int)\n",
    "    print(\"Thank you Ma'am\")\n",
    "    if x == true\n",
    "        return +(a, b, c)\n",
    "    else\n",
    "        print(\"False\")\n",
    "        return nothing\n",
    "    end     \n",
    "end\n",
    "\n",
    "typeof(nothing_check(true,1))"
   ]
  }
 ],
 "metadata": {
  "kernelspec": {
   "display_name": "Julia 1.7.2",
   "language": "julia",
   "name": "julia-1.7"
  },
  "language_info": {
   "file_extension": ".jl",
   "mimetype": "application/julia",
   "name": "julia",
   "version": "1.7.2"
  },
  "orig_nbformat": 4
 },
 "nbformat": 4,
 "nbformat_minor": 2
}
