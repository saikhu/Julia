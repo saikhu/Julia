{
 "cells": [
  {
   "cell_type": "code",
   "execution_count": null,
   "metadata": {},
   "outputs": [],
   "source": [
    "# code in Chapter 8\\csv_files.jl:\n",
    "fname = \"/Volumes/GoogleDrive/My Drive/UNOMIC/JuliaTesting/Julia/Chapter_08/winequality.csv\"\n",
    "using DelimitedFiles\n",
    "\n",
    "data = DelimitedFiles.readdlm(fname, ';');"
   ]
  }
 ],
 "metadata": {
  "kernelspec": {
   "display_name": "Julia 1.7.2",
   "language": "julia",
   "name": "julia-1.7"
  },
  "language_info": {
   "file_extension": ".jl",
   "mimetype": "application/julia",
   "name": "julia",
   "version": "1.7.2"
  },
  "orig_nbformat": 4
 },
 "nbformat": 4,
 "nbformat_minor": 2
}
