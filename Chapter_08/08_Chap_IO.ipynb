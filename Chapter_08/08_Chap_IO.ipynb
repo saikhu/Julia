{
 "cells": [
  {
   "cell_type": "code",
   "execution_count": 1,
   "metadata": {},
   "outputs": [],
   "source": [
    "# code in Chapter 8\\csv_files.jl:\n",
    "fname = \"/Volumes/GoogleDrive/My Drive/UNOMIC/JuliaTesting/Julia/Chapter_08/winequality.csv\"\n",
    "using DelimitedFiles\n",
    "\n",
    "data = DelimitedFiles.readdlm(fname, ';');"
   ]
  },
  {
   "cell_type": "code",
   "execution_count": 8,
   "metadata": {},
   "outputs": [
    {
     "name": "stdout",
     "output_type": "stream",
     "text": [
      "\u001b[1m0×0 DataFrame\u001b[0m"
     ]
    }
   ],
   "source": [
    "# // code in Chapter 8\\dataframes.jl\n",
    "using DataFrames, Missings\n",
    "# constructing a DataFrame:\n",
    "df = DataFrame()\n",
    "# df[!, column=\"col1\"] = 1:4\n",
    "# df[!, Col2] = [exp(1), pi, sqrt(2), 42]\n",
    "# df[!, Col3] = [true, false, true, false]\n",
    "show(df)"
   ]
  },
  {
   "cell_type": "code",
   "execution_count": 9,
   "metadata": {},
   "outputs": [],
   "source": [
    "using Sockets\n",
    "server = Sockets.listen(8080)\n",
    "# Sockets.TCPServer(Base.Libc.WindowsRawSocket(0x00000000000002e4) active)\n",
    "\n",
    "conn = accept(server)\n",
    "# on the client: $ nc localhost 8080 \t\n",
    "# TcpSocket(connected,0 bytes waiting)\n",
    "line = readline(conn)\n",
    "# hello Julia server!\t\n",
    "# \"hello Julia server!\\n\"\n",
    "write(conn, \"Hello back from server to client, what can I do for you?\")\n",
    "56\n",
    "close(conn)"
   ]
  },
  {
   "cell_type": "code",
   "execution_count": 19,
   "metadata": {},
   "outputs": [
    {
     "ename": "Pkg.Types.PkgError",
     "evalue": "The following package names could not be resolved:\n * PyPlots (not found in project, manifest or registry)\n",
     "output_type": "error",
     "traceback": [
      "The following package names could not be resolved:\n",
      " * PyPlots (not found in project, manifest or registry)\n",
      "\n",
      "\n",
      "Stacktrace:\n",
      "  [1] pkgerror(msg::String)\n",
      "    @ Pkg.Types /Applications/Julia-1.7.app/Contents/Resources/julia/share/julia/stdlib/v1.7/Pkg/src/Types.jl:68\n",
      "  [2] ensure_resolved(manifest::Pkg.Types.Manifest, pkgs::Vector{Pkg.Types.PackageSpec}; registry::Bool)\n",
      "    @ Pkg.Types /Applications/Julia-1.7.app/Contents/Resources/julia/share/julia/stdlib/v1.7/Pkg/src/Types.jl:915\n",
      "  [3] add(ctx::Pkg.Types.Context, pkgs::Vector{Pkg.Types.PackageSpec}; preserve::Pkg.Types.PreserveLevel, platform::Base.BinaryPlatforms.Platform, kwargs::Base.Pairs{Symbol, VSCodeServer.IJuliaCore.IJuliaStdio{Base.PipeEndpoint, typeof(VSCodeServer.io_send_callback)}, Tuple{Symbol}, NamedTuple{(:io,), Tuple{VSCodeServer.IJuliaCore.IJuliaStdio{Base.PipeEndpoint, typeof(VSCodeServer.io_send_callback)}}}})\n",
      "    @ Pkg.API /Applications/Julia-1.7.app/Contents/Resources/julia/share/julia/stdlib/v1.7/Pkg/src/API.jl:257\n",
      "  [4] add(pkgs::Vector{Pkg.Types.PackageSpec}; io::VSCodeServer.IJuliaCore.IJuliaStdio{Base.PipeEndpoint, typeof(VSCodeServer.io_send_callback)}, kwargs::Base.Pairs{Symbol, Union{}, Tuple{}, NamedTuple{(), Tuple{}}})\n",
      "    @ Pkg.API /Applications/Julia-1.7.app/Contents/Resources/julia/share/julia/stdlib/v1.7/Pkg/src/API.jl:149\n",
      "  [5] add(pkgs::Vector{Pkg.Types.PackageSpec})\n",
      "    @ Pkg.API /Applications/Julia-1.7.app/Contents/Resources/julia/share/julia/stdlib/v1.7/Pkg/src/API.jl:144\n",
      "  [6] #add#27\n",
      "    @ /Applications/Julia-1.7.app/Contents/Resources/julia/share/julia/stdlib/v1.7/Pkg/src/API.jl:142 [inlined]\n",
      "  [7] add\n",
      "    @ /Applications/Julia-1.7.app/Contents/Resources/julia/share/julia/stdlib/v1.7/Pkg/src/API.jl:142 [inlined]\n",
      "  [8] #add#26\n",
      "    @ /Applications/Julia-1.7.app/Contents/Resources/julia/share/julia/stdlib/v1.7/Pkg/src/API.jl:141 [inlined]\n",
      "  [9] add(pkg::String)\n",
      "    @ Pkg.API /Applications/Julia-1.7.app/Contents/Resources/julia/share/julia/stdlib/v1.7/Pkg/src/API.jl:141\n",
      " [10] top-level scope\n",
      "    @ /Volumes/GoogleDrive/My Drive/UNOMIC/JuliaTesting/Julia/Chapter_08/08_Chap_IO.ipynb:2\n",
      " [11] eval\n",
      "    @ ./boot.jl:373 [inlined]\n",
      " [12] include_string(mapexpr::typeof(REPL.softscope), mod::Module, code::String, filename::String)\n",
      "    @ Base ./loading.jl:1196\n",
      " [13] #invokelatest#2\n",
      "    @ ./essentials.jl:716 [inlined]\n",
      " [14] invokelatest\n",
      "    @ ./essentials.jl:714 [inlined]\n",
      " [15] (::VSCodeServer.var\"#150#151\"{VSCodeServer.NotebookRunCellArguments, String})()\n",
      "    @ VSCodeServer ~/.vscode/extensions/julialang.language-julia-1.5.11/scripts/packages/VSCodeServer/src/serve_notebook.jl:18\n",
      " [16] withpath(f::VSCodeServer.var\"#150#151\"{VSCodeServer.NotebookRunCellArguments, String}, path::String)\n",
      "    @ VSCodeServer ~/.vscode/extensions/julialang.language-julia-1.5.11/scripts/packages/VSCodeServer/src/repl.jl:185\n",
      " [17] notebook_runcell_request(conn::VSCodeServer.JSONRPC.JSONRPCEndpoint{Base.PipeEndpoint, Base.PipeEndpoint}, params::VSCodeServer.NotebookRunCellArguments)\n",
      "    @ VSCodeServer ~/.vscode/extensions/julialang.language-julia-1.5.11/scripts/packages/VSCodeServer/src/serve_notebook.jl:14\n",
      " [18] dispatch_msg(x::VSCodeServer.JSONRPC.JSONRPCEndpoint{Base.PipeEndpoint, Base.PipeEndpoint}, dispatcher::VSCodeServer.JSONRPC.MsgDispatcher, msg::Dict{String, Any})\n",
      "    @ VSCodeServer.JSONRPC ~/.vscode/extensions/julialang.language-julia-1.5.11/scripts/packages/JSONRPC/src/typed.jl:67\n",
      " [19] serve_notebook(pipename::String; crashreporting_pipename::String)\n",
      "    @ VSCodeServer ~/.vscode/extensions/julialang.language-julia-1.5.11/scripts/packages/VSCodeServer/src/serve_notebook.jl:94\n",
      " [20] top-level scope\n",
      "    @ ~/.vscode/extensions/julialang.language-julia-1.5.11/scripts/notebook/notebook.jl:12\n",
      " [21] include(mod::Module, _path::String)\n",
      "    @ Base ./Base.jl:418\n",
      " [22] exec_options(opts::Base.JLOptions)\n",
      "    @ Base ./client.jl:292\n",
      " [23] _start()\n",
      "    @ Base ./client.jl:495"
     ]
    }
   ],
   "source": [
    "import Pkg; \n",
    "Pkg.add(\"PyPlots\")\n",
    "using PyPlots\n",
    "using StatPlots\n",
    "using RDatasets\n",
    "iris = dataset(\"datasets\", \"iris\")\n",
    "@df iris scatter(:SepalLength, :SepalWidth, group = :Species, m = (0.5,\n",
    "        [:+ :h :star7], 4), bg = RGB(1.0, 1.0, 1.0))\n"
   ]
  }
 ],
 "metadata": {
  "kernelspec": {
   "display_name": "Julia 1.7.2",
   "language": "julia",
   "name": "julia-1.7"
  },
  "language_info": {
   "file_extension": ".jl",
   "mimetype": "application/julia",
   "name": "julia",
   "version": "1.7.2"
  },
  "orig_nbformat": 4
 },
 "nbformat": 4,
 "nbformat_minor": 2
}
